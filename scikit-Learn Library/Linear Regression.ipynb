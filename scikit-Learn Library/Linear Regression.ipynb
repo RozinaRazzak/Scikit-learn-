{
 "cells": [
  {
   "cell_type": "code",
   "execution_count": 24,
   "id": "7cc13ca2",
   "metadata": {},
   "outputs": [
    {
     "name": "stdout",
     "output_type": "stream",
     "text": [
      "Enter the number of hours you study: 5\n",
      "Predicted Exam Score:  [72.57142857]\n"
     ]
    },
    {
     "name": "stderr",
     "output_type": "stream",
     "text": [
      "C:\\Users\\Admin\\Rover\\Lib\\site-packages\\sklearn\\base.py:464: UserWarning: X does not have valid feature names, but LinearRegression was fitted with feature names\n",
      "  warnings.warn(\n"
     ]
    }
   ],
   "source": [
    "\"\"\"Problem Statement:\n",
    "    Predict a student's final exam score based on the number of \n",
    "    hours they study\"\"\"\n",
    "\n",
    "import numpy as np\n",
    "import pandas as pd\n",
    "from sklearn.model_selection import train_test_split\n",
    "from sklearn.linear_model import LinearRegression\n",
    "\n",
    "data = {'Hours_study': [2, 3, 4, 5 ,6 ,7, 8, 9, 10], 'Exam_score':\n",
    "        [50, 60, 70, 75, 80, 85, 90, 92, 99 ]}\n",
    "\n",
    "df = pd.DataFrame(data)\n",
    "\n",
    "\n",
    "X = df[['Hours_study']]\n",
    "y = df[['Exam_score']]\n",
    "\n",
    "X_train, X_test, y_train, y_test = train_test_split(X, y, test_size = 0.2, random_state = 42)\n",
    "\n",
    "model = LinearRegression()\n",
    "\n",
    "model.fit(X_train, y_train)\n",
    "\n",
    "user_input = float(input('Enter the number of hours you study: '))\n",
    "\n",
    "predicted_score = model.predict([[user_input]])\n",
    "\n",
    "print(f\"Predicted Exam Score: \", predicted_score[0])"
   ]
  },
  {
   "cell_type": "code",
   "execution_count": 28,
   "id": "5c51c32f",
   "metadata": {},
   "outputs": [
    {
     "name": "stdout",
     "output_type": "stream",
     "text": [
      "0.9673150510204082\n"
     ]
    }
   ],
   "source": [
    "Accuracy = model.score(X_test, y_test)\n",
    "print(Accuracy)"
   ]
  },
  {
   "cell_type": "code",
   "execution_count": null,
   "id": "ea1f463d",
   "metadata": {},
   "outputs": [],
   "source": []
  }
 ],
 "metadata": {
  "kernelspec": {
   "display_name": "Python 3 (ipykernel)",
   "language": "python",
   "name": "python3"
  },
  "language_info": {
   "codemirror_mode": {
    "name": "ipython",
    "version": 3
   },
   "file_extension": ".py",
   "mimetype": "text/x-python",
   "name": "python",
   "nbconvert_exporter": "python",
   "pygments_lexer": "ipython3",
   "version": "3.11.4"
  }
 },
 "nbformat": 4,
 "nbformat_minor": 5
}
